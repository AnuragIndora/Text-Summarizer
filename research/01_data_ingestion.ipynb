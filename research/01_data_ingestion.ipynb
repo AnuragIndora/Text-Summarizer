{
 "cells": [
  {
   "cell_type": "code",
   "execution_count": 1,
   "id": "4a09b7a0",
   "metadata": {},
   "outputs": [],
   "source": [
    "# set directory to main directory\n",
    "import os \n",
    "\n",
    "os.chdir(\"../\")"
   ]
  },
  {
   "cell_type": "code",
   "execution_count": 2,
   "id": "8fd1a754",
   "metadata": {},
   "outputs": [
    {
     "name": "stdout",
     "output_type": "stream",
     "text": [
      "[2025-07-02 23:30:41,918: INFO: config: PyTorch version 2.7.1+cu128 available.]\n",
      "[2025-07-02 23:30:41,923: INFO: config: JAX version 0.4.30 available.]\n"
     ]
    },
    {
     "name": "stderr",
     "output_type": "stream",
     "text": [
      "c:\\Users\\anura\\miniconda3\\envs\\nlp\\lib\\site-packages\\tqdm\\auto.py:21: TqdmWarning: IProgress not found. Please update jupyter and ipywidgets. See https://ipywidgets.readthedocs.io/en/stable/user_install.html\n",
      "  from .autonotebook import tqdm as notebook_tqdm\n"
     ]
    }
   ],
   "source": [
    "from dataclasses import dataclass\n",
    "from pathlib import Path\n",
    "import os\n",
    "import urllib.request as request\n",
    "import zipfile\n",
    "from src.textSummarizer.logging.logging_config import setup_logger\n",
    "from src.textSummarizer.utils.common import get_size\n",
    "from src.textSummarizer.constants import *\n",
    "from src.textSummarizer.utils.common import read_yaml, create_directories\n",
    "from datasets import DatasetDict"
   ]
  },
  {
   "cell_type": "code",
   "execution_count": 3,
   "id": "30e0c0e3",
   "metadata": {},
   "outputs": [],
   "source": [
    "@dataclass(frozen=True)\n",
    "class DataIngestionConfig:\n",
    "    root_dir: Path\n",
    "    dataset_name: str\n",
    "    dataset_version: str\n",
    "    local_data_dir: Path"
   ]
  },
  {
   "cell_type": "code",
   "execution_count": 4,
   "id": "098fd3a8",
   "metadata": {},
   "outputs": [
    {
     "name": "stderr",
     "output_type": "stream",
     "text": [
      "2025-07-02 23:30:42,303 - TextSummarizer - INFO - Application started.\n"
     ]
    },
    {
     "name": "stdout",
     "output_type": "stream",
     "text": [
      "[2025-07-02 23:30:42,303: INFO: 3658843850: Application started.]\n"
     ]
    }
   ],
   "source": [
    "# Initialize the logger\n",
    "logger = setup_logger(\"logs/running_logs.log\")  # Specify the log file path\n",
    "# Example usage of the logger\n",
    "logger.info(\"Application started.\")"
   ]
  },
  {
   "cell_type": "code",
   "execution_count": 5,
   "id": "950c54ab",
   "metadata": {},
   "outputs": [],
   "source": [
    "class ConfigurationManager:\n",
    "    def __init__(\n",
    "            self,\n",
    "            config_filepath: str = \"config/config.yaml\",  # Update with your actual path\n",
    "            params_filepath: str = \"config/params.yaml\"):  # Update with your actual path\n",
    "        \n",
    "        # Convert string paths to Path objects\n",
    "        self.config = read_yaml(Path(config_filepath))\n",
    "        self.params = read_yaml(Path(params_filepath))\n",
    "\n",
    "        # Create the root directory for artifacts\n",
    "        create_directories([self.config.artifacts_root])\n",
    "\n",
    "    def get_data_ingestion_config(self) -> DataIngestionConfig:\n",
    "        config = self.config.data_ingestion\n",
    "\n",
    "        # Create the directory for data ingestion\n",
    "        create_directories([config.root_dir])\n",
    "\n",
    "        # Create and return the DataIngestionConfig object\n",
    "        data_ingestion_config = DataIngestionConfig(\n",
    "            root_dir=Path(config.root_dir),\n",
    "            dataset_name=config.dataset_name,\n",
    "            dataset_version=config.dataset_version,\n",
    "            local_data_dir=Path(config.local_data_dir)\n",
    "        )\n",
    "\n",
    "        return data_ingestion_config\n"
   ]
  },
  {
   "cell_type": "code",
   "execution_count": 6,
   "id": "f64ec411",
   "metadata": {},
   "outputs": [],
   "source": [
    "class DataIngestion:\n",
    "    def __init__(self, config: DataIngestionConfig):\n",
    "        self.config = config\n",
    "        logger.info(\"DataIngestion initialized with config: %s\", self.config)\n",
    "    \n",
    "    def download_data(self) -> DatasetDict:\n",
    "        \"\"\"\n",
    "        Downloads the dataset from Hugging Face and saves it locally\n",
    "        Returns:\n",
    "            DatasetDict: The loaded dataset containing train, validation and test splits\n",
    "        \"\"\"\n",
    "        # Create directories if they don't exist\n",
    "        os.makedirs(self.config.local_data_dir, exist_ok=True)\n",
    "        logger.info(\"Starting data download...\")\n",
    "        try:\n",
    "            # Load dataset from Hugging Face\n",
    "            from datasets import load_dataset\n",
    "            dataset = load_dataset(\n",
    "                path=self.config.dataset_name,\n",
    "                name=self.config.dataset_version,\n",
    "                cache_dir=self.config.local_data_dir\n",
    "            )\n",
    "\n",
    "            logger.debug(\"Loading dataset from %s\", self.config.dataset_name)\n",
    "\n",
    "            # Save datasets to local files\n",
    "            dataset['train'].to_csv(os.path.join(self.config.local_data_dir, 'train.csv'))\n",
    "            dataset['validation'].to_csv(os.path.join(self.config.local_data_dir, 'validation.csv')) \n",
    "            dataset['test'].to_csv(os.path.join(self.config.local_data_dir, 'test.csv'))\n",
    "            \n",
    "            logger.info(\"Data download completed successfully.\")\n",
    "\n",
    "            return dataset\n",
    "            \n",
    "        except Exception as e:\n",
    "            # raise Exception(f\"Error downloading dataset: {str(e)}\")\n",
    "            logger.error(\"Error downloading data: %s\", str(e))\n",
    "\n",
    "    def get_data(self) -> DatasetDict:\n",
    "        \"\"\"\n",
    "        Public method to get the downloaded data\n",
    "        Returns:\n",
    "            DatasetDict: The dataset dictionary\n",
    "        \"\"\"\n",
    "        return self.download_data()\n"
   ]
  },
  {
   "cell_type": "code",
   "execution_count": null,
   "id": "bbea65d1",
   "metadata": {},
   "outputs": [
    {
     "name": "stdout",
     "output_type": "stream",
     "text": [
      "[2025-07-02 23:33:41,757: INFO: common: yaml file: config\\config.yaml loaded successfully]\n",
      "[2025-07-02 23:33:41,760: INFO: common: yaml file: config\\params.yaml loaded successfully]\n",
      "[2025-07-02 23:33:41,761: INFO: common: created directory at: artifacts]\n",
      "[2025-07-02 23:33:41,762: INFO: common: created directory at: artifacts/data_ingestion]\n"
     ]
    },
    {
     "name": "stderr",
     "output_type": "stream",
     "text": [
      "2025-07-02 23:33:41,763 - TextSummarizer - INFO - DataIngestion initialized with config: DataIngestionConfig(root_dir=WindowsPath('artifacts/data_ingestion'), dataset_name='abisee/cnn_dailymail', dataset_version='3.0.0', local_data_dir=WindowsPath('artifacts/data_ingestion/cnn_dailymail_data'))\n"
     ]
    },
    {
     "name": "stdout",
     "output_type": "stream",
     "text": [
      "abisee/cnn_dailymail\n",
      "artifacts\\data_ingestion\\cnn_dailymail_data\n",
      "[2025-07-02 23:33:41,763: INFO: 416219855: DataIngestion initialized with config: DataIngestionConfig(root_dir=WindowsPath('artifacts/data_ingestion'), dataset_name='abisee/cnn_dailymail', dataset_version='3.0.0', local_data_dir=WindowsPath('artifacts/data_ingestion/cnn_dailymail_data'))]\n"
     ]
    },
    {
     "name": "stderr",
     "output_type": "stream",
     "text": [
      "2025-07-02 23:33:41,766 - TextSummarizer - INFO - Starting data download...\n"
     ]
    },
    {
     "name": "stdout",
     "output_type": "stream",
     "text": [
      "[2025-07-02 23:33:41,766: INFO: 416219855: Starting data download...]\n"
     ]
    },
    {
     "name": "stderr",
     "output_type": "stream",
     "text": [
      "Generating train split: 100%|██████████| 287113/287113 [00:02<00:00, 114006.49 examples/s]\n",
      "Generating validation split: 100%|██████████| 13368/13368 [00:00<00:00, 110683.42 examples/s]\n",
      "Generating test split: 100%|██████████| 11490/11490 [00:00<00:00, 105166.74 examples/s]\n"
     ]
    },
    {
     "name": "stdout",
     "output_type": "stream",
     "text": [
      "[2025-07-02 23:33:57,734: DEBUG: 416219855: Loading dataset from abisee/cnn_dailymail]\n"
     ]
    },
    {
     "name": "stderr",
     "output_type": "stream",
     "text": [
      "Creating CSV from Arrow format: 100%|██████████| 288/288 [00:22<00:00, 12.80ba/s]\n",
      "Creating CSV from Arrow format: 100%|██████████| 14/14 [00:01<00:00, 13.84ba/s]\n",
      "Creating CSV from Arrow format: 100%|██████████| 12/12 [00:00<00:00, 13.70ba/s]\n",
      "2025-07-02 23:34:22,141 - TextSummarizer - INFO - Data download completed successfully.\n"
     ]
    },
    {
     "name": "stdout",
     "output_type": "stream",
     "text": [
      "[2025-07-02 23:34:22,141: INFO: 416219855: Data download completed successfully.]\n"
     ]
    }
   ],
   "source": [
    "# Create an instance of ConfigurationManager\n",
    "config_manager = ConfigurationManager()\n",
    "\n",
    "# Get the data ingestion configuration\n",
    "data_ingestion_config = config_manager.get_data_ingestion_config()\n",
    "\n",
    "# Access the configuration attributes\n",
    "print(data_ingestion_config.dataset_name)\n",
    "print(data_ingestion_config.local_data_dir)\n",
    "\n",
    "data_ingestion = DataIngestion(config=data_ingestion_config)\n",
    "dataset = data_ingestion.get_data()"
   ]
  }
 ],
 "metadata": {
  "kernelspec": {
   "display_name": "nlp",
   "language": "python",
   "name": "python3"
  },
  "language_info": {
   "codemirror_mode": {
    "name": "ipython",
    "version": 3
   },
   "file_extension": ".py",
   "mimetype": "text/x-python",
   "name": "python",
   "nbconvert_exporter": "python",
   "pygments_lexer": "ipython3",
   "version": "3.9.23"
  }
 },
 "nbformat": 4,
 "nbformat_minor": 5
}
