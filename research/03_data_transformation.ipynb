{
 "cells": [
  {
   "cell_type": "code",
   "execution_count": 1,
   "id": "ab8c4240",
   "metadata": {},
   "outputs": [],
   "source": [
    "import os \n",
    "os.chdir(\"../\")"
   ]
  },
  {
   "cell_type": "code",
   "execution_count": 2,
   "id": "1d681123",
   "metadata": {},
   "outputs": [],
   "source": [
    "from dataclasses import dataclass\n",
    "from pathlib import Path\n",
    "\n",
    "@dataclass(frozen=True)\n",
    "class DataTransformationConfig:\n",
    "    root_dir: Path\n",
    "    dataset_dir: Path\n",
    "    model_name: str\n",
    "    tokenizer_name: str\n",
    "    max_input_length: int = 1024\n",
    "    max_target_length: int = 128"
   ]
  },
  {
   "cell_type": "code",
   "execution_count": null,
   "id": "68f46e8b",
   "metadata": {},
   "outputs": [],
   "source": [
    "from src.textSummarizer.constants import *\n",
    "from src.textSummarizer.utils.common import read_yaml, create_directories\n",
    "from pathlib import Path\n",
    "import logging\n",
    "from pathlib import Path\n",
    "import logging\n",
    "from transformers import BartTokenizer, BartForConditionalGeneration\n",
    "from datasets import load_dataset\n",
    "\n",
    "\n",
    "logger = logging.getLogger(__name__)"
   ]
  },
  {
   "cell_type": "code",
   "execution_count": 20,
   "id": "dd9e4d81",
   "metadata": {},
   "outputs": [],
   "source": [
    "class ConfigurationManager:\n",
    "    def __init__(self,\n",
    "                 config_filepath: str = CONFIG_FILE_PATH,\n",
    "                 params_filepath: str = PARAMS_FILE_PATH):\n",
    "        \n",
    "        # Read configuration and parameters from YAML files\n",
    "        self.config = read_yaml(Path(config_filepath))\n",
    "        self.params = read_yaml(Path(params_filepath))\n",
    "\n",
    "        # Create the root directory for artifacts\n",
    "        create_directories([self.config.artifacts_root])\n",
    "\n",
    "    def get_data_transformation_config(self) -> DataTransformationConfig:\n",
    "        \"\"\"Retrieve the data transformation configuration\"\"\"\n",
    "        config = self.config.data_transformation\n",
    "\n",
    "        # Create the directory for data transformation\n",
    "        create_directories([config.root_dir])\n",
    "\n",
    "        # Create and return the DataTransformationConfig object\n",
    "        data_transformation_config = DataTransformationConfig(\n",
    "            root_dir=Path(config.root_dir),  # Ensure this is correct\n",
    "            dataset_dir=Path(config.dataset_dir),  # Ensure this is correct\n",
    "            model_name=config.model_name,  # Use config directly\n",
    "            tokenizer_name=config.tokenizer_name,  # Use config directly\n",
    "            max_input_length=config.max_input_length,  # Use config directly\n",
    "            max_target_length=config.max_target_length  # Use config directly\n",
    "        )\n",
    "\n",
    "        return data_transformation_config\n"
   ]
  },
  {
   "cell_type": "code",
   "execution_count": 21,
   "id": "2d59bfa4",
   "metadata": {},
   "outputs": [],
   "source": [
    "class DataTransformation:\n",
    "    def __init__(self, config: DataTransformationConfig):\n",
    "        self.config = config\n",
    "        self.tokenizer = BartTokenizer.from_pretrained(self.config.tokenizer_name)\n",
    "        self.model = BartForConditionalGeneration.from_pretrained(\n",
    "            self.config.model_name,\n",
    "            gradient_checkpointing=True  # Saves memory during training\n",
    "        )\n",
    "        logger.info(\"Initialized DataTransformation with model: %s\", \n",
    "                    self.config.model_name)\n",
    "\n",
    "    def convert_examples_to_features(self, example_batch):\n",
    "        \"\"\"\n",
    "        Convert raw text to tokenized features\n",
    "        \"\"\"\n",
    "        try:\n",
    "            # Tokenize inputs and targets\n",
    "            input_encodings = self.tokenizer(\n",
    "                example_batch['article'], \n",
    "                max_length=self.config.max_input_length,\n",
    "                truncation=True,\n",
    "                padding='max_length'\n",
    "            )\n",
    "            \n",
    "            with self.tokenizer.as_target_tokenizer():\n",
    "                target_encodings = self.tokenizer(\n",
    "                    example_batch['highlights'],\n",
    "                    max_length=self.config.max_target_length,\n",
    "                    truncation=True,\n",
    "                    padding='max_length'\n",
    "                )\n",
    "            \n",
    "            return {\n",
    "                'input_ids': input_encodings['input_ids'],\n",
    "                'attention_mask': input_encodings['attention_mask'],\n",
    "                'labels': target_encodings['input_ids']\n",
    "            }\n",
    "        except Exception as e:\n",
    "            logger.error(\"Error in converting examples: %s\", str(e))\n",
    "            raise e\n",
    "        \n",
    "\n",
    "    def transform(self):\n",
    "        \"\"\"\n",
    "        Complete data transformation pipeline for train, test, and validation datasets.\n",
    "        \"\"\"\n",
    "        try:\n",
    "            logger.info(\"Starting data transformation\")\n",
    "            \n",
    "            # Load datasets from CSV files\n",
    "            dataset_files = {\n",
    "                \"train\": str(Path(self.config.dataset_dir) / \"train.csv\"),\n",
    "                \"test\": str(Path(self.config.dataset_dir) / \"test.csv\"),\n",
    "                \"validation\": str(Path(self.config.dataset_dir) / \"validation.csv\")\n",
    "            }\n",
    "\n",
    "            datasets = load_dataset('csv', data_files=dataset_files)\n",
    "\n",
    "            logger.info(\"Loaded datasets: train (%d samples), test (%d samples), validation (%d samples)\", \n",
    "                        len(datasets['train']), len(datasets['test']), len(datasets['validation']))\n",
    "\n",
    "            # Apply transformation to each dataset\n",
    "            transformed_train_dataset = datasets['train'].map(\n",
    "                self.convert_examples_to_features,\n",
    "                batched=True,\n",
    "                remove_columns=['article', 'highlights', 'id']\n",
    "            )\n",
    "            transformed_test_dataset = datasets['test'].map(\n",
    "                self.convert_examples_to_features,\n",
    "                batched=True,\n",
    "                remove_columns=['article', 'highlights', 'id']\n",
    "            )\n",
    "            transformed_validation_dataset = datasets['validation'].map(\n",
    "                self.convert_examples_to_features,\n",
    "                batched=True,\n",
    "                remove_columns=['article', 'highlights', 'id']\n",
    "            )\n",
    "\n",
    "            logger.info(\"Dataset transformation completed\")\n",
    "\n",
    "            # Save transformed data\n",
    "            transformed_train_path = Path(self.config.root_dir) / \"transformed_train_data\"\n",
    "            transformed_test_path = Path(self.config.root_dir) / \"transformed_test_data\"\n",
    "            transformed_validation_path = Path(self.config.root_dir) / \"transformed_validation_data\"\n",
    "\n",
    "            transformed_train_dataset.save_to_disk(transformed_train_path)\n",
    "            transformed_test_dataset.save_to_disk(transformed_test_path)\n",
    "            transformed_validation_dataset.save_to_disk(transformed_validation_path)\n",
    "\n",
    "            logger.info(\"Transformed datasets saved to: %s, %s, %s\", \n",
    "                        transformed_train_path, transformed_test_path, transformed_validation_path)\n",
    "\n",
    "            return {\n",
    "                \"train\": transformed_train_dataset,\n",
    "                \"test\": transformed_test_dataset,\n",
    "                \"validation\": transformed_validation_dataset\n",
    "            }\n",
    "            \n",
    "        except Exception as e:\n",
    "            logger.exception(\"Data transformation failed: %s\", str(e))\n",
    "            raise e"
   ]
  },
  {
   "cell_type": "code",
   "execution_count": 22,
   "id": "f288a0b3",
   "metadata": {},
   "outputs": [
    {
     "name": "stdout",
     "output_type": "stream",
     "text": [
      "[2025-07-04 16:35:23,484: INFO: common: yaml file: config\\config.yaml loaded successfully]\n",
      "[2025-07-04 16:35:23,486: INFO: common: yaml file: config\\params.yaml loaded successfully]\n",
      "[2025-07-04 16:35:23,488: INFO: common: created directory at: artifacts]\n",
      "[2025-07-04 16:35:23,489: INFO: common: created directory at: artifacts/data_transformation]\n",
      "[2025-07-04 16:35:26,517: INFO: 314184361: Initialized DataTransformation with model: facebook/bart-base]\n",
      "[2025-07-04 16:35:26,517: INFO: 314184361: Starting data transformation]\n"
     ]
    },
    {
     "name": "stderr",
     "output_type": "stream",
     "text": [
      "Generating train split: 287113 examples [00:14, 20373.58 examples/s]\n",
      "Generating test split: 11490 examples [00:00, 19427.87 examples/s]\n",
      "Generating validation split: 13368 examples [00:00, 19410.67 examples/s]\n"
     ]
    },
    {
     "name": "stdout",
     "output_type": "stream",
     "text": [
      "[2025-07-04 16:35:43,158: INFO: 314184361: Loaded datasets: train (287113 samples), test (11490 samples), validation (13368 samples)]\n"
     ]
    },
    {
     "name": "stderr",
     "output_type": "stream",
     "text": [
      "Map:   0%|          | 0/287113 [00:00<?, ? examples/s]c:\\Users\\anura\\miniconda3\\envs\\nlp\\lib\\site-packages\\transformers\\tokenization_utils_base.py:3951: UserWarning: `as_target_tokenizer` is deprecated and will be removed in v5 of Transformers. You can tokenize your labels by using the argument `text_target` of the regular `__call__` method (either in the same call as your input texts if you use the same keyword arguments, or in a separate call.\n",
      "  warnings.warn(\n",
      "Map: 100%|██████████| 287113/287113 [23:46<00:00, 201.24 examples/s]\n",
      "Map: 100%|██████████| 11490/11490 [01:02<00:00, 184.29 examples/s]\n",
      "Map: 100%|██████████| 13368/13368 [01:09<00:00, 191.37 examples/s]"
     ]
    },
    {
     "name": "stdout",
     "output_type": "stream",
     "text": [
      "[2025-07-04 17:01:53,161: INFO: 314184361: Dataset transformation completed]\n"
     ]
    },
    {
     "name": "stderr",
     "output_type": "stream",
     "text": [
      "\n",
      "Saving the dataset (4/4 shards): 100%|██████████| 287113/287113 [00:04<00:00, 62239.97 examples/s]\n",
      "Saving the dataset (1/1 shards): 100%|██████████| 11490/11490 [00:00<00:00, 72601.12 examples/s]\n",
      "Saving the dataset (1/1 shards): 100%|██████████| 13368/13368 [00:00<00:00, 73027.45 examples/s]\n"
     ]
    },
    {
     "name": "stdout",
     "output_type": "stream",
     "text": [
      "[2025-07-04 17:01:58,266: INFO: 314184361: Transformed datasets saved to: artifacts\\data_transformation\\transformed_train_data, artifacts\\data_transformation\\transformed_test_data, artifacts\\data_transformation\\transformed_validation_data]\n"
     ]
    }
   ],
   "source": [
    "# Get configuration\n",
    "config_manager = ConfigurationManager()\n",
    "transform_config = config_manager.get_data_transformation_config()\n",
    "\n",
    "# Initialize and run transformation\n",
    "data_transformation = DataTransformation(transform_config)\n",
    "transformed_data = data_transformation.transform()"
   ]
  },
  {
   "cell_type": "code",
   "execution_count": null,
   "id": "53b9c8f9",
   "metadata": {},
   "outputs": [],
   "source": []
  }
 ],
 "metadata": {
  "kernelspec": {
   "display_name": "nlp",
   "language": "python",
   "name": "python3"
  },
  "language_info": {
   "codemirror_mode": {
    "name": "ipython",
    "version": 3
   },
   "file_extension": ".py",
   "mimetype": "text/x-python",
   "name": "python",
   "nbconvert_exporter": "python",
   "pygments_lexer": "ipython3",
   "version": "3.9.23"
  }
 },
 "nbformat": 4,
 "nbformat_minor": 5
}
