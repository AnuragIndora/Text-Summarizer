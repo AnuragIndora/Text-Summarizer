{
 "cells": [
  {
   "cell_type": "code",
   "execution_count": 1,
   "id": "4a987f1c",
   "metadata": {},
   "outputs": [],
   "source": [
    "import os \n",
    "os.chdir(\"../\")"
   ]
  },
  {
   "cell_type": "code",
   "execution_count": 2,
   "id": "9476cbba",
   "metadata": {},
   "outputs": [
    {
     "name": "stdout",
     "output_type": "stream",
     "text": [
      "[2025-07-03 22:06:24,854: INFO: config: PyTorch version 2.7.1+cu128 available.]\n",
      "[2025-07-03 22:06:24,858: INFO: config: JAX version 0.4.30 available.]\n"
     ]
    },
    {
     "name": "stderr",
     "output_type": "stream",
     "text": [
      "c:\\Users\\anura\\miniconda3\\envs\\nlp\\lib\\site-packages\\tqdm\\auto.py:21: TqdmWarning: IProgress not found. Please update jupyter and ipywidgets. See https://ipywidgets.readthedocs.io/en/stable/user_install.html\n",
      "  from .autonotebook import tqdm as notebook_tqdm\n"
     ]
    }
   ],
   "source": [
    "from src.textSummarizer.constants import *\n",
    "from src.textSummarizer.utils.common import read_yaml, create_directories\n",
    "from ensure import ensure_annotations\n",
    "from pathlib import Path\n",
    "import os\n",
    "import logging\n",
    "from dataclasses import dataclass\n",
    "from typing import List\n",
    "from datasets import DatasetDict\n",
    "import pandas as pd \n",
    "logger = logging.getLogger(__name__)"
   ]
  },
  {
   "cell_type": "code",
   "execution_count": 3,
   "id": "e74a6290",
   "metadata": {},
   "outputs": [],
   "source": [
    "@dataclass(frozen=True)\n",
    "class DataValidationConfig:\n",
    "    root_dir: Path\n",
    "    dataset_dir: Path\n",
    "    STATUS_FILE: Path\n",
    "    REQUIRED_FILES: list[str]\n",
    "    DATA_FORMATS: list[str]"
   ]
  },
  {
   "cell_type": "code",
   "execution_count": 4,
   "id": "d9827fc9",
   "metadata": {},
   "outputs": [],
   "source": [
    "class ConfigurationManager:\n",
    "    def __init__(\n",
    "            self,\n",
    "            config_filepath: str = \"config/config.yaml\",  # Update with your actual path\n",
    "            params_filepath: str = \"config/params.yaml\"):  # Update with your actual path\n",
    "        \n",
    "        # Convert string paths to Path objects\n",
    "        self.config = read_yaml(Path(config_filepath))\n",
    "        self.params = read_yaml(Path(params_filepath))\n",
    "\n",
    "        # Create the root directory for artifacts\n",
    "        create_directories([self.config.artifacts_root])\n",
    "\n",
    "    def get_data_validation_config(self) -> DataValidationConfig:\n",
    "        \"\"\"Retrieve the data validation configuration.\"\"\"\n",
    "        config = self.config.data_validation\n",
    "\n",
    "        # Create the directory for data validation\n",
    "        create_directories([config.root_dir])\n",
    "\n",
    "        # Create and return the DataValidationConfig object\n",
    "        data_validation_config = DataValidationConfig(\n",
    "            root_dir=Path(config.root_dir),\n",
    "            dataset_dir=Path(config.dataset_dir),\n",
    "            STATUS_FILE=Path(config.STATUS_FILE),\n",
    "            REQUIRED_FILES=config.REQUIRED_FILES,\n",
    "            DATA_FORMATS=config.DATA_FORMATS\n",
    "        )\n",
    "\n",
    "        return data_validation_config\n"
   ]
  },
  {
   "cell_type": "code",
   "execution_count": 5,
   "id": "6e7c2a7c",
   "metadata": {},
   "outputs": [],
   "source": [
    "class DataValidation:\n",
    "    def __init__(self, config: DataValidationConfig):\n",
    "        self.config = config\n",
    "        create_directories([self.config.root_dir])\n",
    "        self.status_file = Path(self.config.STATUS_FILE)\n",
    "        logger.info(\"Initialized DataValidation with config: %s\", self.config)\n",
    "\n",
    "    @ensure_annotations\n",
    "    def validate_files_exist(self) -> bool:\n",
    "        \"\"\"Validate all required files exist in the specified directory\"\"\"\n",
    "        try:\n",
    "            validation_status = True\n",
    "            missing_files = []\n",
    "            \n",
    "            logger.info(\"Validating file existence in: %s\", self.config.root_dir)\n",
    "            \n",
    "            for file in self.config.REQUIRED_FILES:\n",
    "                file_path = Path(self.config.dataset_dir) / file\n",
    "                if not file_path.exists():\n",
    "                    validation_status = False\n",
    "                    missing_files.append(str(file_path))\n",
    "                    logger.warning(\"File missing: %s\", file_path)\n",
    "\n",
    "            # Write status to file\n",
    "            with open(self.status_file, 'w') as f:\n",
    "                f.write(f\"FILE_EXISTENCE_VALIDATION: {'PASS' if validation_status else 'FAIL'}\\n\")\n",
    "                if not validation_status:\n",
    "                    f.write(f\"MISSING_FILES: {','.join(missing_files)}\\n\")\n",
    "\n",
    "            return validation_status\n",
    "            \n",
    "        except Exception as e:\n",
    "            logger.error(\"Error during file existence validation: %s\", str(e))\n",
    "            raise\n",
    "\n",
    "    @ensure_annotations\n",
    "    def validate_file_formats(self) -> bool:\n",
    "        \"\"\"Validate all files contain required columns\"\"\"\n",
    "        validation_status = True\n",
    "        invalid_files = []\n",
    "        \n",
    "        try:\n",
    "            logger.info(\"Validating file formats\")\n",
    "            \n",
    "            for file in self.config.REQUIRED_FILES:\n",
    "                file_path = Path(self.config.dataset_dir) / file\n",
    "                \n",
    "                try:\n",
    "                    # Handle both CSV and JSON files\n",
    "                    if file.endswith('.csv'):\n",
    "                        df = pd.read_csv(file_path)\n",
    "                    elif file.endswith('.json'):\n",
    "                        df = pd.read_json(file_path)\n",
    "                    else:\n",
    "                        logger.error(\"Unsupported file format for file: %s\", file)\n",
    "                        validation_status = False\n",
    "                        invalid_files.append(f\"{file} (error: Unsupported file format)\")\n",
    "                        continue\n",
    "                    \n",
    "                    # Check required columns\n",
    "                    missing_cols = [col for col in self.config.DATA_FORMATS if col not in df.columns]\n",
    "                    \n",
    "                    if missing_cols:\n",
    "                        validation_status = False\n",
    "                        invalid_files.append(f\"{file} (missing: {','.join(missing_cols)})\")\n",
    "                        logger.warning(\"Missing columns in %s: %s\", file, missing_cols)\n",
    "                        \n",
    "                except Exception as e:\n",
    "                    validation_status = False\n",
    "                    invalid_files.append(f\"{file} (error: {str(e)})\")\n",
    "                    logger.error(\"Error reading %s: %s\", file, str(e))\n",
    "\n",
    "            # Update status file\n",
    "            with open(self.status_file, 'a') as f:\n",
    "                f.write(f\"FORMAT_VALIDATION: {'PASS' if validation_status else 'FAIL'}\\n\")\n",
    "                if not validation_status:\n",
    "                    f.write(f\"INVALID_FILES: {'; '.join(invalid_files)}\\n\")\n",
    "\n",
    "            return validation_status\n",
    "            \n",
    "        except Exception as e:\n",
    "            logger.error(\"Error during format validation: %s\", str(e))\n",
    "            raise\n",
    "\n",
    "    def run_validation(self) -> bool:\n",
    "        \"\"\"Run complete validation pipeline\"\"\"\n",
    "        logger.info(\"Starting comprehensive data validation\")\n",
    "        \n",
    "        file_check = self.validate_files_exist()\n",
    "        content_check = self.validate_file_formats() if file_check else False\n",
    "        \n",
    "        final_status = file_check and content_check\n",
    "        \n",
    "        with open(self.status_file, 'a') as f:\n",
    "            f.write(f\"OVERALL_VALIDATION: {'PASS' if final_status else 'FAIL'}\\n\")\n",
    "        \n",
    "        logger.info(\"Validation completed. Final status: %s\", \"PASS\" if final_status else \"FAIL\")\n",
    "        return final_status\n"
   ]
  },
  {
   "cell_type": "code",
   "execution_count": 6,
   "id": "c8b66d6d",
   "metadata": {},
   "outputs": [
    {
     "name": "stdout",
     "output_type": "stream",
     "text": [
      "[2025-07-03 22:06:25,235: INFO: common: yaml file: config\\config.yaml loaded successfully]\n",
      "[2025-07-03 22:06:25,236: INFO: common: yaml file: config\\params.yaml loaded successfully]\n",
      "[2025-07-03 22:06:25,238: INFO: common: created directory at: artifacts]\n",
      "[2025-07-03 22:06:25,239: INFO: common: created directory at: artifacts/data_validation]\n",
      "[2025-07-03 22:06:25,240: INFO: common: created directory at: artifacts\\data_validation]\n",
      "[2025-07-03 22:06:25,241: INFO: 3208243731: Initialized DataValidation with config: DataValidationConfig(root_dir=WindowsPath('artifacts/data_validation'), dataset_dir=WindowsPath('artifacts/data_ingestion/cnn_dailymail_data'), STATUS_FILE=WindowsPath('artifacts/data_validation/status.txt'), REQUIRED_FILES=BoxList(['train.csv', 'validation.csv', 'test.csv']), DATA_FORMATS=BoxList(['article', 'highlights']))]\n",
      "[2025-07-03 22:06:25,242: INFO: 3208243731: Starting comprehensive data validation]\n",
      "[2025-07-03 22:06:25,242: INFO: 3208243731: Validating file existence in: artifacts\\data_validation]\n",
      "[2025-07-03 22:06:25,244: INFO: 3208243731: Validating file formats]\n",
      "[2025-07-03 22:06:38,885: INFO: 3208243731: Validation completed. Final status: PASS]\n"
     ]
    },
    {
     "data": {
      "text/plain": [
       "True"
      ]
     },
     "execution_count": 6,
     "metadata": {},
     "output_type": "execute_result"
    }
   ],
   "source": [
    "config_manager = ConfigurationManager()\n",
    "\n",
    "# Get config from ConfigurationManager\n",
    "validation_config = config_manager.get_data_validation_config()\n",
    "\n",
    "# Initialize validator\n",
    "validator = DataValidation(validation_config)\n",
    "\n",
    "# Run validation\n",
    "validator.run_validation()"
   ]
  },
  {
   "cell_type": "code",
   "execution_count": null,
   "id": "f8782424",
   "metadata": {},
   "outputs": [],
   "source": []
  }
 ],
 "metadata": {
  "kernelspec": {
   "display_name": "nlp",
   "language": "python",
   "name": "python3"
  },
  "language_info": {
   "codemirror_mode": {
    "name": "ipython",
    "version": 3
   },
   "file_extension": ".py",
   "mimetype": "text/x-python",
   "name": "python",
   "nbconvert_exporter": "python",
   "pygments_lexer": "ipython3",
   "version": "3.9.23"
  }
 },
 "nbformat": 4,
 "nbformat_minor": 5
}
